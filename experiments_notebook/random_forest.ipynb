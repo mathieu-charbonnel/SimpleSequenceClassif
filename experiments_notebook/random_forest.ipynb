{
  "cells": [
    {
      "cell_type": "code",
      "execution_count": 3,
      "metadata": {},
      "outputs": [],
      "source": [
        "import pandas as pd\n",
        "import numpy as np\n",
        "from imblearn.over_sampling import SMOTE\n",
        "from sklearn.ensemble import RandomForestClassifier\n",
        "from imblearn.pipeline import Pipeline\n",
        "from sklearn.metrics import f1_score, accuracy_score\n",
        "\n",
        "import os\n",
        "os.chdir('C:\\\\Users\\\\mathi\\\\SimpleSequenceClassif')\n",
        "from modules.preprocessing import categories_fit_one_hot, categories_transform_one_hot\n",
        "from modules.preprocessing import df_seq_onehot_encode\n",
        "from modules.data_specific import cleaning"
      ]
    },
    {
      "cell_type": "code",
      "execution_count": 4,
      "metadata": {
        "colab": {
          "base_uri": "https://localhost:8080/",
          "height": 246
        },
        "id": "k3HwxnCjLZwT",
        "outputId": "4396fea6-89fd-47fa-eebe-2355cb51709b"
      },
      "outputs": [],
      "source": [
        "base_path = 'C:\\\\Users\\\\mathi\\\\Documents\\\\sequence_data\\\\'\n",
        "df0, df1, df2, df3, df4, test = [pd.read_csv(base_path + suffix) for suffix in [\n",
        "    'fold_0.csv', 'fold_1.csv', 'fold_2.csv', 'fold_3.csv', 'fold_4.csv', 'test.csv']]\n",
        "for df in [df0, df1, df2, df3, df4, test]:\n",
        "  cleaning(df)\n",
        "full_data = pd.concat([df0, df1, df2, df3, df4])"
      ]
    },
    {
      "cell_type": "code",
      "execution_count": null,
      "metadata": {},
      "outputs": [],
      "source": [
        "max_size = 15\n",
        "alphabet = ['A', 'R', 'N', 'D', 'C', 'E', 'Q', 'G', 'H', 'I', 'L', \\\n",
        "            'K', 'M', 'F', 'P', 'S', 'T', 'W', 'Y', 'V']\n",
        "sequence = 'peptide'\n",
        "categories = ['class', 'gene', 'variant']"
      ]
    },
    {
      "cell_type": "code",
      "execution_count": null,
      "metadata": {
        "colab": {
          "base_uri": "https://localhost:8080/"
        },
        "id": "wQJhjbWzTBBR",
        "outputId": "6c998eff-445d-4a27-dbb4-ed5642a1156a"
      },
      "outputs": [],
      "source": [
        "train_encoding, encoders = categories_fit_one_hot(df0, categories)\n",
        "test_encoding = categories_transform_one_hot(df0, categories, encoders)\n",
        "print(train_encoding.shape)\n",
        "print(test_encoding.shape)"
      ]
    },
    {
      "cell_type": "code",
      "execution_count": null,
      "metadata": {
        "id": "ofc5LPzlfl_Q"
      },
      "outputs": [],
      "source": [
        "print(df_seq_onehot_encode(df0, sequence, alphabet, max_size).shape)"
      ]
    },
    {
      "cell_type": "code",
      "execution_count": null,
      "metadata": {
        "colab": {
          "base_uri": "https://localhost:8080/"
        },
        "id": "8D0UBd8Adl1C",
        "outputId": "38e414f6-b802-4da6-cea1-87fa147fb8c1"
      },
      "outputs": [],
      "source": [
        "# List of DataFrames\n",
        "dfs = [df0, df1, df2, df3, df4]\n",
        "\n",
        "# Iterate through each DataFrame as a validation set\n",
        "for i, val_df in enumerate(dfs):\n",
        "    print(f\"\\nValidation on df{i}:\")\n",
        "\n",
        "    # Create training set by excluding the validation set\n",
        "    train_dfs = [df for j, df in enumerate(dfs) if j != i]\n",
        "    train_df = pd.concat(train_dfs, ignore_index=True)\n",
        "\n",
        "    # Encodings for the training set\n",
        "    y_train = train_df['hit'].values\n",
        "    cat_train, encoders = categories_fit_one_hot(train_df, categories)\n",
        "    seq_train = df_seq_onehot_encode(train_df, sequence, alphabet, max_size)\n",
        "    X_train = np.hstack((cat_train, seq_train))\n",
        "\n",
        "    # Encodings for the validation set\n",
        "    y_val = val_df['hit'].values\n",
        "    cat_val = categories_transform_one_hot(val_df, categories, encoders)\n",
        "    seq_val = df_seq_onehot_encode(val_df, sequence, alphabet, max_size)\n",
        "    X_val = np.hstack((cat_val, seq_val))\n",
        "\n",
        "    # Random Forest\n",
        "    imba_pipeline_cv = Pipeline([\n",
        "        ('smote', SMOTE(random_state=42)),\n",
        "        ('rf', RandomForestClassifier(n_estimators=20, max_depth=5, random_state=1))\n",
        "    ])\n",
        "\n",
        "    # Fit on the training set and validate on the validation set\n",
        "    imba_pipeline_cv.fit(X_train, y_train)\n",
        "    y_pred_val = imba_pipeline_cv.predict(X_val)\n",
        "\n",
        "    # Evaluate performance on the validation set\n",
        "    f1 = f1_score(y_val, y_pred_val)\n",
        "    accuracy = accuracy_score(y_val, y_pred_val)\n",
        "\n",
        "    print(f\"F1 Score: {f1}, Accuracy: {accuracy}\")"
      ]
    }
  ],
  "metadata": {
    "colab": {
      "machine_shape": "hm",
      "provenance": []
    },
    "kernelspec": {
      "display_name": "Python 3",
      "name": "python3"
    },
    "language_info": {
      "codemirror_mode": {
        "name": "ipython",
        "version": 3
      },
      "file_extension": ".py",
      "mimetype": "text/x-python",
      "name": "python",
      "nbconvert_exporter": "python",
      "pygments_lexer": "ipython3",
      "version": "3.11.6"
    }
  },
  "nbformat": 4,
  "nbformat_minor": 0
}

{
  "cells": [
    {
      "cell_type": "code",
      "execution_count": 1,
      "metadata": {
        "id": "9Y1Q5GlsCIX5"
      },
      "outputs": [],
      "source": [
        "import pandas as pd\n",
        "import os\n",
        "os.chdir('C:\\\\Users\\\\mathi\\\\SimpleSequenceClassif')\n",
        "base_path = 'C:\\\\Users\\\\mathi\\\\Documents\\\\sequence_data\\\\'\n",
        "df0, df1, df2, df3, df4, test = [pd.read_csv(base_path + suffix) for suffix in [\n",
        "    'fold_0.csv', 'fold_1.csv', 'fold_2.csv', 'fold_3.csv', 'fold_4.csv', 'test.csv']]\n",
        "full_data = pd.concat([df0, df1, df2, df3, df4])"
      ]
    },
    {
      "cell_type": "code",
      "execution_count": null,
      "metadata": {
        "colab": {
          "base_uri": "https://localhost:8080/",
          "height": 464
        },
        "id": "UE472vWKDmc2",
        "outputId": "7a55dc30-3cf2-46e7-9518-3a1e40addc8d"
      },
      "outputs": [],
      "source": [
        "# Missing Values and Duplicates\n",
        "print('training_dataset_size:',len(full_data.index))\n",
        "print('number of missing values in training:', full_data.isnull().sum().sum())\n",
        "print('number of duplicates in training: ', full_data.duplicated().sum())\n",
        "\n",
        "print('test_dataset_size:',len(test.index))\n",
        "print('number of missing values in test:', test.isnull().sum().sum())\n",
        "print('number of duplicates in test: ', test.duplicated().sum())\n",
        "\n",
        "full_data.hit.value_counts().plot(kind='bar',\n",
        "                                  title='Count (hit)',\n",
        "                                  figsize=(4, 3))\n",
        "print(full_data.hit.value_counts())"
      ]
    },
    {
      "cell_type": "code",
      "execution_count": 2,
      "metadata": {
        "colab": {
          "base_uri": "https://localhost:8080/"
        },
        "id": "TlZB97IbDwZ1",
        "outputId": "19b2219d-d485-40f2-d0b4-f6630c383cf2"
      },
      "outputs": [
        {
          "ename": "ModuleNotFoundError",
          "evalue": "No module named 'modules'",
          "output_type": "error",
          "traceback": [
            "\u001b[1;31m---------------------------------------------------------------------------\u001b[0m",
            "\u001b[1;31mModuleNotFoundError\u001b[0m                       Traceback (most recent call last)",
            "Cell \u001b[1;32mIn[2], line 2\u001b[0m\n\u001b[0;32m      1\u001b[0m \u001b[38;5;66;03m# Check category intersection\u001b[39;00m\n\u001b[1;32m----> 2\u001b[0m \u001b[38;5;28;01mfrom\u001b[39;00m \u001b[38;5;21;01mmodules\u001b[39;00m\u001b[38;5;21;01m.\u001b[39;00m\u001b[38;5;21;01manalysis\u001b[39;00m \u001b[38;5;28;01mimport\u001b[39;00m df_category_intersect\n\u001b[0;32m      4\u001b[0m category \u001b[38;5;241m=\u001b[39m \u001b[38;5;124m'\u001b[39m\u001b[38;5;124mallele\u001b[39m\u001b[38;5;124m'\u001b[39m\n\u001b[0;32m      6\u001b[0m \u001b[38;5;28mprint\u001b[39m(\u001b[38;5;124m'\u001b[39m\u001b[38;5;124mUnique category names in test set: \u001b[39m\u001b[38;5;124m'\u001b[39m, test[category]\u001b[38;5;241m.\u001b[39mnunique())\n",
            "\u001b[1;31mModuleNotFoundError\u001b[0m: No module named 'modules'"
          ]
        }
      ],
      "source": [
        "# Check category intersection\n",
        "from modules.analysis import df_category_intersect\n",
        "\n",
        "category = 'allele'\n",
        "\n",
        "print('Unique category names in test set: ', test[category].nunique())\n",
        "print('Unique category names in train set: ', full_data[category].nunique())\n",
        "print('Intersection with training set: ', df_category_intersect(full_data, test, category))"
      ]
    },
    {
      "cell_type": "code",
      "execution_count": null,
      "metadata": {
        "colab": {
          "base_uri": "https://localhost:8080/"
        },
        "id": "j6qQKX6wJrmw",
        "outputId": "e979513b-8c5d-49c4-a894-15c6be67bc88"
      },
      "outputs": [],
      "source": [
        "# Check max lengths of sequence\n",
        "from modules.analysis import max_length\n",
        "\n",
        "sequence  = 'peptide'\n",
        "\n",
        "print('sequence max length on train set: ', max_length(full_data, sequence))\n",
        "print('sequence max length on test set: ', max_length(test, sequence))"
      ]
    }
  ],
  "metadata": {
    "colab": {
      "provenance": []
    },
    "kernelspec": {
      "display_name": "Python 3",
      "name": "python3"
    },
    "language_info": {
      "codemirror_mode": {
        "name": "ipython",
        "version": 3
      },
      "file_extension": ".py",
      "mimetype": "text/x-python",
      "name": "python",
      "nbconvert_exporter": "python",
      "pygments_lexer": "ipython3",
      "version": "3.11.6"
    }
  },
  "nbformat": 4,
  "nbformat_minor": 0
}

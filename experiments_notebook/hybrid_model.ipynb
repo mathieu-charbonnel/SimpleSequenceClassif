{
  "cells": [
    {
      "cell_type": "code",
      "execution_count": null,
      "metadata": {
        "id": "yzItUt2Z3jMX"
      },
      "outputs": [],
      "source": [
        "import pandas as pd\n",
        "from tqdm import tqdm\n",
        "\n",
        "import numpy as np\n",
        "import matplotlib.pyplot as plt\n",
        "\n",
        "import torch\n",
        "from torch.utils.data import DataLoader, WeightedRandomSampler\n",
        "import torch.nn as nn\n",
        "import torch.optim as optim\n",
        "from transformers import AutoTokenizer\n",
        "tokenizer = AutoTokenizer.from_pretrained(\"Intel/dynamic_tinybert\")\n",
        "\n",
        "from sklearn.metrics import f1_score, accuracy_score\n",
        "\n",
        "import os\n",
        "os.chdir('C:\\\\Users\\\\mathi\\\\SimpleSequenceClassif')\n",
        "from modules.preprocessing import categories_fit_one_hot, seq_pipeline\n",
        "from modules.datasets import SeqCatBalancedDataset, sample_weights\n",
        "from modules.data_specific import cleaning\n",
        "from modules.models import TinyBERTClassifier\n",
        "\n",
        "device = torch.device(\"cuda\" if torch.cuda.is_available() else \"cpu\")"
      ]
    },
    {
      "cell_type": "code",
      "execution_count": 2,
      "metadata": {
        "colab": {
          "base_uri": "https://localhost:8080/",
          "height": 246
        },
        "id": "WusIN--IO8RP",
        "outputId": "b630da5c-0597-4414-de58-78f65610145b"
      },
      "outputs": [],
      "source": [
        "base_path = 'C:\\\\Users\\\\mathi\\\\Documents\\\\sequence_data\\\\'\n",
        "df0, df1, df2, df3, df4, test = [pd.read_csv(base_path + suffix) for suffix in [\n",
        "    'fold_0.csv', 'fold_1.csv', 'fold_2.csv', 'fold_3.csv', 'fold_4.csv', 'test.csv']]\n",
        "for df in [df0, df1, df2, df3, df4, test]:\n",
        "  cleaning(df)\n",
        "full_data = pd.concat([df0, df1, df2, df3, df4])"
      ]
    },
    {
      "cell_type": "code",
      "execution_count": 3,
      "metadata": {
        "id": "sbVwgBWq6wKl"
      },
      "outputs": [],
      "source": [
        "sequence = 'peptide'\n",
        "categories = ['class', 'gene', 'variant']"
      ]
    },
    {
      "cell_type": "code",
      "execution_count": 4,
      "metadata": {},
      "outputs": [],
      "source": [
        "# Data Loaders setup\n",
        "\n",
        "dataframe = pd.concat([df0, df1, df2, df3, df4])\n",
        "_, cat_encoders = categories_fit_one_hot(dataframe, categories)\n",
        "\n",
        "# Create PyTorch DataLoader for training and validation\n",
        "train_dataset = SeqCatBalancedDataset(dataframe,\n",
        "                                      sequence,\n",
        "                                      tokenizer,\n",
        "                                      categories,\n",
        "                                      cat_encoders)\n",
        "# Create a balanced sampler based on the dataset\n",
        "weights = sample_weights(train_dataset)\n",
        "balanced_sampler = WeightedRandomSampler(weights,\n",
        "                                         len(train_dataset),\n",
        "                                         replacement=True,\n",
        "                                         generator=None)\n",
        "\n",
        "# Create DataLoader with the balanced sampler\n",
        "train_loader = DataLoader(train_dataset, \n",
        "                          batch_size=16, \n",
        "                          sampler=balanced_sampler)\n",
        "\n",
        "\n",
        "val_dataset = SeqCatBalancedDataset(test,\n",
        "                                    sequence,\n",
        "                                    tokenizer,\n",
        "                                    categories,\n",
        "                                    cat_encoders)\n",
        "\n",
        "val_loader = DataLoader(val_dataset, batch_size=16, shuffle=False)"
      ]
    },
    {
      "cell_type": "code",
      "execution_count": null,
      "metadata": {
        "colab": {
          "base_uri": "https://localhost:8080/"
        },
        "id": "z_uzK1_EZ8LQ",
        "outputId": "a79b52af-2804-470e-ad35-800468c3491e"
      },
      "outputs": [],
      "source": [
        "# Initialize the model\n",
        "hidden_dim = 128\n",
        "num_categories = 72\n",
        "tinybert_classifier = TinyBERTClassifier(hidden_dim, num_categories)\n",
        "tinybert_classifier.to(device)\n",
        "\n",
        "# Define loss and optimizer\n",
        "criterion = nn.BCELoss()\n",
        "optimizer = optim.Adam(tinybert_classifier.parameters(), lr=1e-5)\n",
        "\n",
        "# Define the number of iterations\n",
        "num_epochs = 1\n",
        "num_iterations = len(train_loader) * num_epochs\n",
        "\n",
        "# Lists to store loss values\n",
        "losses = []\n",
        "\n",
        "# Define loss and optimizer\n",
        "criterion = nn.BCELoss()\n",
        "optimizer = optim.Adam(tinybert_classifier.parameters(), lr=1e-5)\n",
        "\n",
        "# Train the model\n",
        "for epoch in range(num_epochs):\n",
        "    tinybert_classifier.train()\n",
        "\n",
        "    # Wrap the train_loader with tqdm to create a progress bar\n",
        "    for batch_sequence, batch_masks, batch_categorical, batch_y in \\\n",
        "        tqdm(train_loader, desc=f\"Epoch {epoch + 1}\", ncols=100):\n",
        "\n",
        "        optimizer.zero_grad()\n",
        "        output = tinybert_classifier(\n",
        "            batch_sequence,\n",
        "            batch_masks,\n",
        "            batch_categorical\n",
        "        )\n",
        "        loss = criterion(output, batch_y)\n",
        "        loss.backward()\n",
        "        optimizer.step()\n",
        "\n",
        "        # Append the loss to the list\n",
        "        losses.append(loss.item())\n",
        "\n",
        "# Final loss plot\n",
        "plt.figure(figsize=(10, 6))\n",
        "plt.plot(losses, label=\"Training Loss\")\n",
        "plt.xlabel(\"Iterations\")\n",
        "plt.ylabel(\"Loss\")\n",
        "plt.legend()\n",
        "plt.show()"
      ]
    },
    {
      "cell_type": "code",
      "execution_count": null,
      "metadata": {
        "colab": {
          "base_uri": "https://localhost:8080/"
        },
        "id": "LoY4NjpnQ6ah",
        "outputId": "c387da49-d118-4529-e7aa-9e7c8579f073"
      },
      "outputs": [],
      "source": [
        "def validate(model, dataloader):\n",
        "    model.eval()  # Set the model to evaluation mode\n",
        "    y_true = []\n",
        "    y_pred = []\n",
        "\n",
        "    with torch.no_grad():  # Disable gradient computation during validation\n",
        "        for batch_sequence, batch_masks, batch_categorical, batch_y in tqdm(\n",
        "            dataloader, desc=\"Validation\", ncols=100):\n",
        "\n",
        "            # Forward pass\n",
        "            output = model(batch_sequence,\n",
        "                           batch_masks,\n",
        "                           batch_categorical)\n",
        "\n",
        "            # Convert probabilities to binary predictions (0 or 1)\n",
        "            predictions = (output > 0.5).float()\n",
        "            # Append true labels and predictions\n",
        "            y_true.extend(batch_y.cpu().numpy())\n",
        "            y_pred.extend(predictions.cpu().numpy())\n",
        "\n",
        "    f1 = f1_score(np.array(y_true).reshape((-1)), np.array(y_pred).reshape((-1)))  # Calculate the F1 score\n",
        "    return f1\n",
        "\n",
        "# Call the validate function to get the F1 score\n",
        "f1_score = validate(tinybert_classifier, val_loader)\n",
        "print(f\"F1 Score on Test Set: {f1_score}\")"
      ]
    },
    {
      "cell_type": "code",
      "execution_count": null,
      "metadata": {
        "colab": {
          "base_uri": "https://localhost:8080/"
        },
        "id": "nXu9ys0zCVaf",
        "outputId": "c49ae828-f2ad-4248-f546-acc43f62ba3d"
      },
      "outputs": [],
      "source": [
        "# Debug\n",
        "for batch_sequence, batch_categorical, batch_y in val_loader:\n",
        "  print(batch_sequence.shape)\n",
        "  print(batch_categorical.shape)\n",
        "  print(batch_y.shape)\n",
        "  break"
      ]
    }
  ],
  "metadata": {
    "accelerator": "GPU",
    "colab": {
      "gpuType": "V100",
      "machine_shape": "hm",
      "provenance": []
    },
    "kernelspec": {
      "display_name": "Python 3",
      "name": "python3"
    },
    "language_info": {
      "codemirror_mode": {
        "name": "ipython",
        "version": 3
      },
      "file_extension": ".py",
      "mimetype": "text/x-python",
      "name": "python",
      "nbconvert_exporter": "python",
      "pygments_lexer": "ipython3",
      "version": "3.11.6"
    }
  },
  "nbformat": 4,
  "nbformat_minor": 0
}
